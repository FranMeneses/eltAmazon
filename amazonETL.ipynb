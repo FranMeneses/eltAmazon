{
 "cells": [
  {
   "cell_type": "markdown",
   "metadata": {},
   "source": [
    "# Reseña de usuarios de Amazon por categoría de Producto"
   ]
  },
  {
   "cell_type": "markdown",
   "metadata": {},
   "source": [
    "Nos entregan opiniones de usuarios de Amazon a sus productos, están en archivos tsv y debemos aplicar ETL."
   ]
  },
  {
   "cell_type": "markdown",
   "metadata": {},
   "source": [
    "## Importamos las librerías correspondientes"
   ]
  },
  {
   "cell_type": "code",
   "execution_count": 1,
   "metadata": {},
   "outputs": [],
   "source": [
    "import pandas as pd\n",
    "from numpy import nan\n",
    "import sqlalchemy\n",
    "import psycopg2\n",
    "import time"
   ]
  },
  {
   "cell_type": "markdown",
   "metadata": {},
   "source": [
    "## 1. Extract"
   ]
  },
  {
   "cell_type": "markdown",
   "metadata": {},
   "source": [
    "Realizamos la extracción de datos desde los archivos tsv que se nos entregaron, los cuales por conveniencia estarán en el mismo directorio.\n",
    "También deberemos analizar la composición de los datos obtenidos."
   ]
  },
  {
   "cell_type": "code",
   "execution_count": 2,
   "metadata": {},
   "outputs": [
    {
     "name": "stderr",
     "output_type": "stream",
     "text": [
      "C:\\Users\\franc\\AppData\\Local\\Temp\\ipykernel_11704\\3520785675.py:4: ParserWarning: Falling back to the 'python' engine because the 'c' engine does not support regex separators (separators > 1 char and different from '\\s+' are interpreted as regex); you can avoid this warning by specifying engine='python'.\n",
      "  df_digital_music = pd.read_csv(filepath_or_buffer=\"amazon_reviews_us_Digital_Music_Purchase_v1_00.tsv\", sep=\"\\t+\", encoding='utf-8', chunksize=200000)\n"
     ]
    }
   ],
   "source": [
    "tiempoInicial = time.time() #Inicializamos el tiempo para poder medir al final\n",
    "\n",
    "#df_multilingual = pd.read_csv(filepath_or_buffer=\"amazon_reviews_multilingual_US_v1_00.tsv\", sep=\"\\t\", encoding='utf-8', chunksize=200000)\n",
    "df_digital_music = pd.read_csv(filepath_or_buffer=\"amazon_reviews_us_Digital_Music_Purchase_v1_00.tsv\", sep=\"\\t+\", encoding='utf-8', chunksize=200000)"
   ]
  },
  {
   "cell_type": "markdown",
   "metadata": {},
   "source": [
    "Vemos cuantos datos se cargaron"
   ]
  },
  {
   "cell_type": "code",
   "execution_count": 3,
   "metadata": {},
   "outputs": [
    {
     "name": "stdout",
     "output_type": "stream",
     "text": [
      "200000\n",
      "200000\n",
      "200000\n",
      "200000\n",
      "200000\n",
      "200000\n",
      "200000\n",
      "200000\n",
      "88884\n"
     ]
    }
   ],
   "source": [
    "for chunk_digital_music in df_digital_music:\n",
    "    print (len (chunk_digital_music))"
   ]
  },
  {
   "cell_type": "markdown",
   "metadata": {},
   "source": [
    "## 2. Transform"
   ]
  },
  {
   "cell_type": "markdown",
   "metadata": {},
   "source": [
    "### Separación de datos"
   ]
  },
  {
   "cell_type": "code",
   "execution_count": 7,
   "metadata": {},
   "outputs": [
    {
     "name": "stdout",
     "output_type": "stream",
     "text": [
      "<class 'pandas.core.frame.DataFrame'>\n",
      "RangeIndex: 88884 entries, 1600000 to 1688883\n",
      "Data columns (total 15 columns):\n",
      " #   Column             Non-Null Count  Dtype \n",
      "---  ------             --------------  ----- \n",
      " 0   marketplace        88884 non-null  object\n",
      " 1   customer_id        88884 non-null  int64 \n",
      " 2   review_id          88884 non-null  object\n",
      " 3   product_id         88884 non-null  object\n",
      " 4   product_parent     88884 non-null  int64 \n",
      " 5   product_title      88884 non-null  object\n",
      " 6   product_category   88884 non-null  object\n",
      " 7   star_rating        88884 non-null  int64 \n",
      " 8   helpful_votes      88884 non-null  int64 \n",
      " 9   total_votes        88884 non-null  int64 \n",
      " 10  vine               88884 non-null  object\n",
      " 11  verified_purchase  88884 non-null  object\n",
      " 12  review_headline    88884 non-null  object\n",
      " 13  review_body        88884 non-null  object\n",
      " 14  review_date        88884 non-null  object\n",
      "dtypes: int64(5), object(10)\n",
      "memory usage: 10.2+ MB\n"
     ]
    }
   ],
   "source": [
    "chunk_digital_music.info()"
   ]
  },
  {
   "cell_type": "markdown",
   "metadata": {},
   "source": [
    "Notamos que las columnas están correctamente separadas, sus nombres son correctos y que no parece haber datos nulos por lo que no sería necesario limpiarlos"
   ]
  },
  {
   "cell_type": "markdown",
   "metadata": {},
   "source": [
    "### Formateo de Datos"
   ]
  },
  {
   "cell_type": "markdown",
   "metadata": {},
   "source": [
    "Al analizar los datos podemos determinar que no presentan mayores problemas de escritura, pero que sin embargo hay algunos textos que están en camel case, lo que podría dar problema a la hora de subirlos a la base de datos, por lo que podemos trabajar estos datos para llevarlos a lower case."
   ]
  },
  {
   "cell_type": "code",
   "execution_count": 8,
   "metadata": {},
   "outputs": [
    {
     "data": {
      "text/plain": [
       "1600000                                            Deep\n",
       "1600001        Diamond Rings / PS I Love You - Split 7\"\n",
       "1600002                                Celluloid Heroes\n",
       "1600003                                   Ana Benavides\n",
       "1600004                                        Suddenly\n",
       "                               ...                     \n",
       "1688879         The Human Condition In Twelve Fractions\n",
       "1688880                          Liberate te ex Inferis\n",
       "1688881    Blood On The Dance Floor/ History In The Mix\n",
       "1688882             Satisfaction Is The Death Of Desire\n",
       "1688883           Sixteen Tambourines / Baroque Hoedown\n",
       "Name: product_title, Length: 88884, dtype: object"
      ]
     },
     "execution_count": 8,
     "metadata": {},
     "output_type": "execute_result"
    }
   ],
   "source": [
    "chunk_digital_music[\"product_title\"] #Ejemplo de elementos en camel case"
   ]
  },
  {
   "cell_type": "markdown",
   "metadata": {},
   "source": [
    "## 3. Load"
   ]
  },
  {
   "cell_type": "markdown",
   "metadata": {},
   "source": [
    "aún no hago esto"
   ]
  }
 ],
 "metadata": {
  "kernelspec": {
   "display_name": "Python 3.9.12 ('base')",
   "language": "python",
   "name": "python3"
  },
  "language_info": {
   "codemirror_mode": {
    "name": "ipython",
    "version": 3
   },
   "file_extension": ".py",
   "mimetype": "text/x-python",
   "name": "python",
   "nbconvert_exporter": "python",
   "pygments_lexer": "ipython3",
   "version": "3.9.12"
  },
  "orig_nbformat": 4,
  "vscode": {
   "interpreter": {
    "hash": "e03b612d84ba21ce95ed447e81b3062e1eb99b56c6d885cdab4aaa12f1b8e240"
   }
  }
 },
 "nbformat": 4,
 "nbformat_minor": 2
}
